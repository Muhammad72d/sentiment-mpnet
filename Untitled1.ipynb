{
  "cells": [
    {
      "cell_type": "markdown",
      "metadata": {
        "id": "view-in-github",
        "colab_type": "text"
      },
      "source": [
        "<a href=\"https://colab.research.google.com/github/Muhammad72d/sentiment-mpnet/blob/main/Untitled1.ipynb\" target=\"_parent\"><img src=\"https://colab.research.google.com/assets/colab-badge.svg\" alt=\"Open In Colab\"/></a>"
      ]
    },
    {
      "cell_type": "code",
      "execution_count": 1,
      "metadata": {
        "id": "9PLX2iVAUNuR"
      },
      "outputs": [],
      "source": [
        "import pandas as pd\n",
        "import re\n",
        "import matplotlib.pyplot as plt\n",
        "from sentence_transformers import SentenceTransformer\n",
        "from keras.callbacks import EarlyStopping"
      ]
    },
    {
      "cell_type": "code",
      "execution_count": 2,
      "metadata": {
        "colab": {
          "base_uri": "https://localhost:8080/"
        },
        "id": "yhjb73q6VGFM",
        "outputId": "aa972170-89e6-490a-c1d7-77d18ebc77b3"
      },
      "outputs": [
        {
          "output_type": "stream",
          "name": "stdout",
          "text": [
            "['.config', 'training.1600000.processed.noemoticon.csv', 'sample_data']\n"
          ]
        }
      ],
      "source": [
        "import os\n",
        "print(os.listdir())\n",
        "import numpy as np\n",
        "from sklearn.model_selection import train_test_split\n",
        "from sklearn.metrics import accuracy_score\n",
        "from google.colab import files"
      ]
    },
    {
      "cell_type": "code",
      "execution_count": 3,
      "metadata": {
        "id": "DwDE0kLs3Cpf"
      },
      "outputs": [],
      "source": [
        "from tensorflow.keras.models import Sequential\n",
        "from tensorflow.keras.layers import Dense,Dropout,Input,BatchNormalization\n",
        "from tensorflow.keras import layers\n",
        "from tensorflow.keras.optimizers import Adam"
      ]
    },
    {
      "cell_type": "code",
      "execution_count": 8,
      "metadata": {
        "id": "CAsigcI7XSVb"
      },
      "outputs": [],
      "source": [
        "df=pd.read_csv('training.1600000.processed.noemoticon.csv',encoding='latin-1')"
      ]
    },
    {
      "cell_type": "code",
      "execution_count": 9,
      "metadata": {
        "id": "gE64VhBIif1H"
      },
      "outputs": [],
      "source": [
        "df.columns=['target','id','x','y','z','txt']"
      ]
    },
    {
      "cell_type": "code",
      "execution_count": 32,
      "metadata": {
        "id": "y8I8WT7vjQNP"
      },
      "outputs": [],
      "source": [
        "sample=df.sample(n=100000)\n",
        "sample=sample.drop(columns=['id','x','y','z'])"
      ]
    },
    {
      "cell_type": "code",
      "execution_count": 33,
      "metadata": {
        "colab": {
          "base_uri": "https://localhost:8080/"
        },
        "id": "JD6dzredk9E5",
        "outputId": "26bd9c1f-00ca-45c2-adca-c8f0d47e4438"
      },
      "outputs": [
        {
          "output_type": "execute_result",
          "data": {
            "text/plain": [
              "Index(['target', 'txt'], dtype='object')"
            ]
          },
          "metadata": {},
          "execution_count": 33
        }
      ],
      "source": [
        "sample.columns"
      ]
    },
    {
      "cell_type": "code",
      "execution_count": 34,
      "metadata": {
        "id": "g8wPLP6PlIow"
      },
      "outputs": [],
      "source": [
        "def clean(x):\n",
        "  if not isinstance(x,str):\n",
        "      return ''\n",
        "  x=x.lower()\n",
        "  x=re.sub(r'http\\S+','',x)\n",
        "  x=re.sub(r'@\\w+','',x)\n",
        "  x=re.sub(r'#','',x)\n",
        "  x=re.sub(r'\\s+',' ',x)\n",
        "  x=re.sub(r'[^a-z\\s\\']','',x)\n",
        "  x=re.sub(r'(.)\\1,{2,}','\\1\\1',x)\n",
        "  x=x.strip()\n",
        "  return x"
      ]
    },
    {
      "cell_type": "code",
      "execution_count": 35,
      "metadata": {
        "id": "rK5_83ValZbt"
      },
      "outputs": [],
      "source": [
        "def minimize(x):\n",
        "  if x<2:\n",
        "   return 0\n",
        "  else:\n",
        "   return 1"
      ]
    },
    {
      "cell_type": "code",
      "execution_count": 36,
      "metadata": {
        "id": "mcFsfdAMmCls"
      },
      "outputs": [],
      "source": [
        "sample['target']=sample['target'].apply(minimize)\n"
      ]
    },
    {
      "cell_type": "code",
      "execution_count": 37,
      "metadata": {
        "colab": {
          "base_uri": "https://localhost:8080/",
          "height": 430
        },
        "id": "U_gVWRXHCh6y",
        "outputId": "40e1605d-4781-4b30-a7be-537d58ecb090"
      },
      "outputs": [
        {
          "output_type": "display_data",
          "data": {
            "text/plain": [
              "<Figure size 640x480 with 1 Axes>"
            ],
            "image/png": "[encoded data removed]"
          },
          "metadata": {}
        }
      ],
      "source": [
        "plt.bar(sample['target'].value_counts().index,sample['target'].value_counts())\n",
        "plt.show()"
      ]
    },
    {
      "cell_type": "code",
      "execution_count": 42,
      "metadata": {
        "id": "fb1ynHCgmZ9Y"
      },
      "outputs": [],
      "source": [
        "sample['txt']=sample['txt'].apply(clean)\n",
        "sample=sample[sample['txt']!='']\n",
        "sample=sample.drop_duplicates(subset=['txt'])\n",
        "sample=sample.dropna(subset=['txt'])"
      ]
    },
    {
      "cell_type": "code",
      "execution_count": 43,
      "metadata": {
        "colab": {
          "base_uri": "https://localhost:8080/"
        },
        "id": "2caIuv0rC0_a",
        "outputId": "f9f7d424-06fa-4eaa-d140-84664f35a5a1"
      },
      "outputs": [
        {
          "output_type": "stream",
          "name": "stdout",
          "text": [
            "['just got back from sea world in sa tx shamu is a mean whale he got me all wet', 'hahah lol ignoring definately does not work cause they end up jus pissingannoying u more well ive found that anyway', \"i'm really really really hungry and i don't know what to eat\", 'dbpedia is down', \"quot i've been harassing son of grok to work with me and invent some primal nachosquot if not sog i'm calling tacobell\", 'thank you bellevue reporter for the lovely feature on our new store we have already gotten positive feedback on the story', 'this is my bed i slept on the top', \"that is gonna be dopei'll be in ann arbor tonight for zap mama though\", 'having a drink at spoons an hour till food arrives', 'chegay ao mundo twitter']\n",
            "(97737, 2)\n"
          ]
        }
      ],
      "source": [
        "print(sample['txt'].sample(10).tolist())\n",
        "print(sample.shape)"
      ]
    },
    {
      "cell_type": "code",
      "execution_count": 44,
      "metadata": {
        "id": "1XKV-RTXn0by"
      },
      "outputs": [],
      "source": [
        "st=SentenceTransformer('all-mpnet-base-v2')"
      ]
    },
    {
      "cell_type": "code",
      "execution_count": 45,
      "metadata": {
        "id": "n9lfQNg0oTdz"
      },
      "outputs": [],
      "source": [
        "txt=sample['txt'].tolist()"
      ]
    },
    {
      "cell_type": "code",
      "execution_count": 46,
      "metadata": {
        "colab": {
          "base_uri": "https://localhost:8080/",
          "height": 49,
          "referenced_widgets": [
            "0769004a202445ec99c1338ee0950d33",
            "78adf87bc07e4f9a9b66dacbc58a3cbc",
            "f9fa6a6e3af9421698a1903baa80eac8",
            "ed154143792a4c7d998f574b3b9cf3e1",
            "a76d38b14b3d433fade3fe0d48c3fb89",
            "f7b0e8a5e4aa4b5c8785ea6d3d9f2019",
            "4b810b9eef9a496fb6b37b229a0e3741",
            "6cd5e38d0cec4686855d2627c6bdaad2",
            "c0afc91927e34d8e98bcd28d764d8b3c",
            "3e0f495a885742b0b806e60097c92378",
            "bdd6a2f76a43457fb2707cc2c93665e3"
          ]
        },
        "id": "n7FmjMYMuG8g",
        "outputId": "9c05e9e7-4e2e-4555-af4e-97a247e96053"
      },
      "outputs": [
        {
          "output_type": "display_data",
          "data": {
            "text/plain": [
              "Batches:   0%|          | 0/1528 [00:00<?, ?it/s]"
            ],
            "application/vnd.jupyter.widget-view+json": {
              "version_major": 2,
              "version_minor": 0,
              "model_id": "0769004a202445ec99c1338ee0950d33"
            }
          },
          "metadata": {}
        }
      ],
      "source": [
        "embeddings=st.encode(txt,\n",
        "                     show_progress_bar=True,\n",
        "                     batch_size=64)"
      ]
    },
    {
      "cell_type": "code",
      "execution_count": 47,
      "metadata": {
        "id": "iCM76y1VviA7",
        "colab": {
          "base_uri": "https://localhost:8080/"
        },
        "outputId": "4d6c6b96-38c3-4d62-e3ca-b4191be79cee"
      },
      "outputs": [
        {
          "output_type": "stream",
          "name": "stdout",
          "text": [
            "(97737, 768)\n"
          ]
        }
      ],
      "source": [
        "\n",
        "\n",
        "print(np.array(embeddings).shape)"
      ]
    },
    {
      "cell_type": "code",
      "execution_count": 48,
      "metadata": {
        "id": "NtL2bWkoFAO7"
      },
      "outputs": [],
      "source": [
        "xtrain,xtest,ytrain,ytest=train_test_split(embeddings,sample['target'],\n",
        "                                           test_size=0.2,\n",
        "                                           random_state=42)"
      ]
    },
    {
      "cell_type": "code",
      "execution_count": null,
      "metadata": {
        "id": "ROTuFJzqDz9B"
      },
      "outputs": [],
      "source": []
    },
    {
      "cell_type": "code",
      "execution_count": null,
      "metadata": {
        "id": "XxDL6I2aDznO"
      },
      "outputs": [],
      "source": []
    },
    {
      "cell_type": "code",
      "execution_count": 49,
      "metadata": {
        "id": "4s0HvnCtXJ1i"
      },
      "outputs": [],
      "source": [
        "Bert_model=Sequential([\n",
        "    Input(shape=(xtrain.shape[1],)),\n",
        "    Dense(512,activation='relu'),\n",
        "    BatchNormalization(),\n",
        "    Dropout(0.3),\n",
        "    Dense(256,activation='relu'),\n",
        "    BatchNormalization(),\n",
        "    Dropout(0.3),\n",
        "    Dense(128,activation='relu'),\n",
        "    BatchNormalization(),\n",
        "    Dropout(0.2),\n",
        "    Dense(1,activation='sigmoid')])"
      ]
    },
    {
      "cell_type": "code",
      "execution_count": 50,
      "metadata": {
        "id": "cHsA0GVeJv8v"
      },
      "outputs": [],
      "source": [
        "lrn_rate=Adam(learning_rate=2e-5)"
      ]
    },
    {
      "cell_type": "code",
      "execution_count": 51,
      "metadata": {
        "id": "PebHyFBtXJqk"
      },
      "outputs": [],
      "source": [
        "Bert_model.compile(optimizer=lrn_rate,\n",
        "                   loss='binary_crossentropy',\n",
        "                   metrics=['accuracy'])"
      ]
    },
    {
      "cell_type": "code",
      "execution_count": 52,
      "metadata": {
        "id": "fH8d_2ZrDt8U"
      },
      "outputs": [],
      "source": [
        "early=EarlyStopping(monitor='val_loss',\n",
        "                    patience=2,\n",
        "                    restore_best_weights=True)"
      ]
    },
    {
      "cell_type": "code",
      "execution_count": 53,
      "metadata": {
        "id": "uBiOKjora2A2",
        "colab": {
          "base_uri": "https://localhost:8080/"
        },
        "outputId": "78b7fc08-7e8b-4352-abee-32c6d21523f1"
      },
      "outputs": [
        {
          "output_type": "stream",
          "name": "stdout",
          "text": [
            "Epoch 1/10\n",
            "\u001b[1m2200/2200\u001b[0m \u001b[32m━━━━━━━━━━━━━━━━━━━━\u001b[0m\u001b[37m\u001b[0m \u001b[1m31s\u001b[0m 12ms/step - accuracy: 0.6387 - loss: 0.7132 - val_accuracy: 0.7639 - val_loss: 0.4961\n",
            "Epoch 2/10\n",
            "\u001b[1m2200/2200\u001b[0m \u001b[32m━━━━━━━━━━━━━━━━━━━━\u001b[0m\u001b[37m\u001b[0m \u001b[1m43s\u001b[0m 13ms/step - accuracy: 0.7343 - loss: 0.5616 - val_accuracy: 0.7795 - val_loss: 0.4754\n",
            "Epoch 3/10\n",
            "\u001b[1m2200/2200\u001b[0m \u001b[32m━━━━━━━━━━━━━━━━━━━━\u001b[0m\u001b[37m\u001b[0m \u001b[1m27s\u001b[0m 12ms/step - accuracy: 0.7504 - loss: 0.5288 - val_accuracy: 0.7807 - val_loss: 0.4668\n",
            "Epoch 4/10\n",
            "\u001b[1m2200/2200\u001b[0m \u001b[32m━━━━━━━━━━━━━━━━━━━━\u001b[0m\u001b[37m\u001b[0m \u001b[1m28s\u001b[0m 13ms/step - accuracy: 0.7568 - loss: 0.5095 - val_accuracy: 0.7853 - val_loss: 0.4597\n",
            "Epoch 5/10\n",
            "\u001b[1m2200/2200\u001b[0m \u001b[32m━━━━━━━━━━━━━━━━━━━━\u001b[0m\u001b[37m\u001b[0m \u001b[1m40s\u001b[0m 12ms/step - accuracy: 0.7680 - loss: 0.4946 - val_accuracy: 0.7891 - val_loss: 0.4521\n",
            "Epoch 6/10\n",
            "\u001b[1m2200/2200\u001b[0m \u001b[32m━━━━━━━━━━━━━━━━━━━━\u001b[0m\u001b[37m\u001b[0m \u001b[1m27s\u001b[0m 12ms/step - accuracy: 0.7708 - loss: 0.4866 - val_accuracy: 0.7922 - val_loss: 0.4481\n",
            "Epoch 7/10\n",
            "\u001b[1m2200/2200\u001b[0m \u001b[32m━━━━━━━━━━━━━━━━━━━━\u001b[0m\u001b[37m\u001b[0m \u001b[1m42s\u001b[0m 12ms/step - accuracy: 0.7768 - loss: 0.4750 - val_accuracy: 0.7955 - val_loss: 0.4460\n",
            "Epoch 8/10\n",
            "\u001b[1m2200/2200\u001b[0m \u001b[32m━━━━━━━━━━━━━━━━━━━━\u001b[0m\u001b[37m\u001b[0m \u001b[1m25s\u001b[0m 11ms/step - accuracy: 0.7867 - loss: 0.4624 - val_accuracy: 0.7956 - val_loss: 0.4433\n",
            "Epoch 9/10\n",
            "\u001b[1m2200/2200\u001b[0m \u001b[32m━━━━━━━━━━━━━━━━━━━━\u001b[0m\u001b[37m\u001b[0m \u001b[1m27s\u001b[0m 12ms/step - accuracy: 0.7878 - loss: 0.4574 - val_accuracy: 0.7975 - val_loss: 0.4415\n",
            "Epoch 10/10\n",
            "\u001b[1m2200/2200\u001b[0m \u001b[32m━━━━━━━━━━━━━━━━━━━━\u001b[0m\u001b[37m\u001b[0m \u001b[1m25s\u001b[0m 11ms/step - accuracy: 0.7894 - loss: 0.4520 - val_accuracy: 0.7979 - val_loss: 0.4397\n"
          ]
        }
      ],
      "source": [
        "history1=Bert_model.fit(xtrain,ytrain,\n",
        "                       epochs=10,batch_size=32,\n",
        "                       validation_split=0.1,\n",
        "                       callbacks=[early],\n",
        "                       verbose=1)"
      ]
    },
    {
      "cell_type": "markdown",
      "metadata": {
        "id": "4nEL7B6bO0GQ"
      },
      "source": []
    },
    {
      "cell_type": "code",
      "execution_count": 54,
      "metadata": {
        "id": "KMWvjx8VEi2x",
        "colab": {
          "base_uri": "https://localhost:8080/",
          "height": 430
        },
        "outputId": "36bca870-f0b7-4e8d-dbcc-d02335dcf966"
      },
      "outputs": [
        {
          "output_type": "display_data",
          "data": {
            "text/plain": [
              "<Figure size 640x480 with 1 Axes>"
            ],
            "image/png": "[encoded data removed]"
          },
          "metadata": {}
        }
      ],
      "source": [
        "plt.plot(history1.history['accuracy'],label='train')\n",
        "plt.plot(history1.history['val_accuracy'],label='val accuracy')\n",
        "plt.plot(history1.history['loss'],label='loss')\n",
        "plt.plot(history1.history['val_loss'],label='val loss')\n",
        "plt.legend()\n",
        "plt.show()"
      ]
    },
    {
      "cell_type": "code",
      "execution_count": null,
      "metadata": {
        "id": "LqausqaREiiN"
      },
      "outputs": [],
      "source": []
    },
    {
      "cell_type": "code",
      "execution_count": 55,
      "metadata": {
        "id": "ErnseuJ9HT8i",
        "colab": {
          "base_uri": "https://localhost:8080/"
        },
        "outputId": "08969cdb-a8f0-41f7-e381-c96227fe5fd2"
      },
      "outputs": [
        {
          "output_type": "stream",
          "name": "stdout",
          "text": [
            "\u001b[1m611/611\u001b[0m \u001b[32m━━━━━━━━━━━━━━━━━━━━\u001b[0m\u001b[37m\u001b[0m \u001b[1m2s\u001b[0m 3ms/step\n"
          ]
        }
      ],
      "source": [
        "temp=Bert_model.predict(xtest)"
      ]
    },
    {
      "cell_type": "code",
      "execution_count": 56,
      "metadata": {
        "id": "XpuWAgdIHejF"
      },
      "outputs": [],
      "source": [
        "ypredict=(temp>=0.5).astype(int)"
      ]
    },
    {
      "cell_type": "code",
      "execution_count": 57,
      "metadata": {
        "id": "poQM2apjXJe-"
      },
      "outputs": [],
      "source": [
        "ac=accuracy_score(ytest,ypredict)"
      ]
    },
    {
      "cell_type": "code",
      "execution_count": 58,
      "metadata": {
        "id": "mreX_tjTXJLL",
        "colab": {
          "base_uri": "https://localhost:8080/"
        },
        "outputId": "ba12eeaf-94e6-4b4d-8634-3eb2324ee790"
      },
      "outputs": [
        {
          "output_type": "stream",
          "name": "stdout",
          "text": [
            "0.8015653775322283\n"
          ]
        }
      ],
      "source": [
        "print(ac)"
      ]
    },
    {
      "cell_type": "code",
      "execution_count": null,
      "metadata": {
        "id": "J3O3owdDICqO"
      },
      "outputs": [],
      "source": [
        "!pip install -U sentence-transformers\n"
      ]
    },
    {
      "cell_type": "code",
      "execution_count": null,
      "metadata": {
        "id": "AAeG3-LGIES6"
      },
      "outputs": [],
      "source": [
        "!pip install -U tensorflow\n"
      ]
    },
    {
      "cell_type": "code",
      "execution_count": null,
      "metadata": {
        "id": "ICgzhctpIdq8"
      },
      "outputs": [],
      "source": [
        "\n"
      ]
    },
    {
      "cell_type": "code",
      "execution_count": null,
      "metadata": {
        "id": "3OhL2ibOQVyc"
      },
      "outputs": [],
      "source": [
        "Bert_model.save('bert_sentiment_model.h5')\n",
        "\n",
        "files.download('bert_sentiment_model.h5')\n"
      ]
    },
    {
      "cell_type": "code",
      "execution_count": null,
      "metadata": {
        "id": "2OAF2YczRgfa"
      },
      "outputs": [],
      "source": []
    }
  ],
  "metadata": {
    "colab": {
      "provenance": [],
      "authorship_tag": "ABX9TyMKiQtcBVH7NxI6uZ368Y7O",
      "include_colab_link": true
    },
    "kernelspec": {
      "display_name": "Python 3",
      "name": "python3"
    },
    "language_info": {
      "name": "python"
    },
    "widgets": {
      "application/vnd.jupyter.widget-state+json": {
        "0769004a202445ec99c1338ee0950d33": {
          "model_module": "@jupyter-widgets/controls",
          "model_name": "HBoxModel",
          "model_module_version": "1.5.0",
          "state": {
            "_dom_classes": [],
            "_model_module": "@jupyter-widgets/controls",
            "_model_module_version": "1.5.0",
            "_model_name": "HBoxModel",
            "_view_count": null,
            "_view_module": "@jupyter-widgets/controls",
            "_view_module_version": "1.5.0",
            "_view_name": "HBoxView",
            "box_style": "",
            "children": [
              "IPY_MODEL_78adf87bc07e4f9a9b66dacbc58a3cbc",
              "IPY_MODEL_f9fa6a6e3af9421698a1903baa80eac8",
              "IPY_MODEL_ed154143792a4c7d998f574b3b9cf3e1"
            ],
            "layout": "IPY_MODEL_a76d38b14b3d433fade3fe0d48c3fb89"
          }
        },
        "78adf87bc07e4f9a9b66dacbc58a3cbc": {
          "model_module": "@jupyter-widgets/controls",
          "model_name": "HTMLModel",
          "model_module_version": "1.5.0",
          "state": {
            "_dom_classes": [],
            "_model_module": "@jupyter-widgets/controls",
            "_model_module_version": "1.5.0",
            "_model_name": "HTMLModel",
            "_view_count": null,
            "_view_module": "@jupyter-widgets/controls",
            "_view_module_version": "1.5.0",
            "_view_name": "HTMLView",
            "description": "",
            "description_tooltip": null,
            "layout": "IPY_MODEL_f7b0e8a5e4aa4b5c8785ea6d3d9f2019",
            "placeholder": "​",
            "style": "IPY_MODEL_4b810b9eef9a496fb6b37b229a0e3741",
            "value": "Batches: 100%"
          }
        },
        "f9fa6a6e3af9421698a1903baa80eac8": {
          "model_module": "@jupyter-widgets/controls",
          "model_name": "FloatProgressModel",
          "model_module_version": "1.5.0",
          "state": {
            "_dom_classes": [],
            "_model_module": "@jupyter-widgets/controls",
            "_model_module_version": "1.5.0",
            "_model_name": "FloatProgressModel",
            "_view_count": null,
            "_view_module": "@jupyter-widgets/controls",
            "_view_module_version": "1.5.0",
            "_view_name": "ProgressView",
            "bar_style": "success",
            "description": "",
            "description_tooltip": null,
            "layout": "IPY_MODEL_6cd5e38d0cec4686855d2627c6bdaad2",
            "max": 1528,
            "min": 0,
            "orientation": "horizontal",
            "style": "IPY_MODEL_c0afc91927e34d8e98bcd28d764d8b3c",
            "value": 1528
          }
        },
        "ed154143792a4c7d998f574b3b9cf3e1": {
          "model_module": "@jupyter-widgets/controls",
          "model_name": "HTMLModel",
          "model_module_version": "1.5.0",
          "state": {
            "_dom_classes": [],
            "_model_module": "@jupyter-widgets/controls",
            "_model_module_version": "1.5.0",
            "_model_name": "HTMLModel",
            "_view_count": null,
            "_view_module": "@jupyter-widgets/controls",
            "_view_module_version": "1.5.0",
            "_view_name": "HTMLView",
            "description": "",
            "description_tooltip": null,
            "layout": "IPY_MODEL_3e0f495a885742b0b806e60097c92378",
            "placeholder": "​",
            "style": "IPY_MODEL_bdd6a2f76a43457fb2707cc2c93665e3",
            "value": " 1528/1528 [1:52:59&lt;00:00,  1.38it/s]"
          }
        },
        "a76d38b14b3d433fade3fe0d48c3fb89": {
          "model_module": "@jupyter-widgets/base",
          "model_name": "LayoutModel",
          "model_module_version": "1.2.0",
          "state": {
            "_model_module": "@jupyter-widgets/base",
            "_model_module_version": "1.2.0",
            "_model_name": "LayoutModel",
            "_view_count": null,
            "_view_module": "@jupyter-widgets/base",
            "_view_module_version": "1.2.0",
            "_view_name": "LayoutView",
            "align_content": null,
            "align_items": null,
            "align_self": null,
            "border": null,
            "bottom": null,
            "display": null,
            "flex": null,
            "flex_flow": null,
            "grid_area": null,
            "grid_auto_columns": null,
            "grid_auto_flow": null,
            "grid_auto_rows": null,
            "grid_column": null,
            "grid_gap": null,
            "grid_row": null,
            "grid_template_areas": null,
            "grid_template_columns": null,
            "grid_template_rows": null,
            "height": null,
            "justify_content": null,
            "justify_items": null,
            "left": null,
            "margin": null,
            "max_height": null,
            "max_width": null,
            "min_height": null,
            "min_width": null,
            "object_fit": null,
            "object_position": null,
            "order": null,
            "overflow": null,
            "overflow_x": null,
            "overflow_y": null,
            "padding": null,
            "right": null,
            "top": null,
            "visibility": null,
            "width": null
          }
        },
        "f7b0e8a5e4aa4b5c8785ea6d3d9f2019": {
          "model_module": "@jupyter-widgets/base",
          "model_name": "LayoutModel",
          "model_module_version": "1.2.0",
          "state": {
            "_model_module": "@jupyter-widgets/base",
            "_model_module_version": "1.2.0",
            "_model_name": "LayoutModel",
            "_view_count": null,
            "_view_module": "@jupyter-widgets/base",
            "_view_module_version": "1.2.0",
            "_view_name": "LayoutView",
            "align_content": null,
            "align_items": null,
            "align_self": null,
            "border": null,
            "bottom": null,
            "display": null,
            "flex": null,
            "flex_flow": null,
            "grid_area": null,
            "grid_auto_columns": null,
            "grid_auto_flow": null,
            "grid_auto_rows": null,
            "grid_column": null,
            "grid_gap": null,
            "grid_row": null,
            "grid_template_areas": null,
            "grid_template_columns": null,
            "grid_template_rows": null,
            "height": null,
            "justify_content": null,
            "justify_items": null,
            "left": null,
            "margin": null,
            "max_height": null,
            "max_width": null,
            "min_height": null,
            "min_width": null,
            "object_fit": null,
            "object_position": null,
            "order": null,
            "overflow": null,
            "overflow_x": null,
            "overflow_y": null,
            "padding": null,
            "right": null,
            "top": null,
            "visibility": null,
            "width": null
          }
        },
        "4b810b9eef9a496fb6b37b229a0e3741": {
          "model_module": "@jupyter-widgets/controls",
          "model_name": "DescriptionStyleModel",
          "model_module_version": "1.5.0",
          "state": {
            "_model_module": "@jupyter-widgets/controls",
            "_model_module_version": "1.5.0",
            "_model_name": "DescriptionStyleModel",
            "_view_count": null,
            "_view_module": "@jupyter-widgets/base",
            "_view_module_version": "1.2.0",
            "_view_name": "StyleView",
            "description_width": ""
          }
        },
        "6cd5e38d0cec4686855d2627c6bdaad2": {
          "model_module": "@jupyter-widgets/base",
          "model_name": "LayoutModel",
          "model_module_version": "1.2.0",
          "state": {
            "_model_module": "@jupyter-widgets/base",
            "_model_module_version": "1.2.0",
            "_model_name": "LayoutModel",
            "_view_count": null,
            "_view_module": "@jupyter-widgets/base",
            "_view_module_version": "1.2.0",
            "_view_name": "LayoutView",
            "align_content": null,
            "align_items": null,
            "align_self": null,
            "border": null,
            "bottom": null,
            "display": null,
            "flex": null,
            "flex_flow": null,
            "grid_area": null,
            "grid_auto_columns": null,
            "grid_auto_flow": null,
            "grid_auto_rows": null,
            "grid_column": null,
            "grid_gap": null,
            "grid_row": null,
            "grid_template_areas": null,
            "grid_template_columns": null,
            "grid_template_rows": null,
            "height": null,
            "justify_content": null,
            "justify_items": null,
            "left": null,
            "margin": null,
            "max_height": null,
            "max_width": null,
            "min_height": null,
            "min_width": null,
            "object_fit": null,
            "object_position": null,
            "order": null,
            "overflow": null,
            "overflow_x": null,
            "overflow_y": null,
            "padding": null,
            "right": null,
            "top": null,
            "visibility": null,
            "width": null
          }
        },
        "c0afc91927e34d8e98bcd28d764d8b3c": {
          "model_module": "@jupyter-widgets/controls",
          "model_name": "ProgressStyleModel",
          "model_module_version": "1.5.0",
          "state": {
            "_model_module": "@jupyter-widgets/controls",
            "_model_module_version": "1.5.0",
            "_model_name": "ProgressStyleModel",
            "_view_count": null,
            "_view_module": "@jupyter-widgets/base",
            "_view_module_version": "1.2.0",
            "_view_name": "StyleView",
            "bar_color": null,
            "description_width": ""
          }
        },
        "3e0f495a885742b0b806e60097c92378": {
          "model_module": "@jupyter-widgets/base",
          "model_name": "LayoutModel",
          "model_module_version": "1.2.0",
          "state": {
            "_model_module": "@jupyter-widgets/base",
            "_model_module_version": "1.2.0",
            "_model_name": "LayoutModel",
            "_view_count": null,
            "_view_module": "@jupyter-widgets/base",
            "_view_module_version": "1.2.0",
            "_view_name": "LayoutView",
            "align_content": null,
            "align_items": null,
            "align_self": null,
            "border": null,
            "bottom": null,
            "display": null,
            "flex": null,
            "flex_flow": null,
            "grid_area": null,
            "grid_auto_columns": null,
            "grid_auto_flow": null,
            "grid_auto_rows": null,
            "grid_column": null,
            "grid_gap": null,
            "grid_row": null,
            "grid_template_areas": null,
            "grid_template_columns": null,
            "grid_template_rows": null,
            "height": null,
            "justify_content": null,
            "justify_items": null,
            "left": null,
            "margin": null,
            "max_height": null,
            "max_width": null,
            "min_height": null,
            "min_width": null,
            "object_fit": null,
            "object_position": null,
            "order": null,
            "overflow": null,
            "overflow_x": null,
            "overflow_y": null,
            "padding": null,
            "right": null,
            "top": null,
            "visibility": null,
            "width": null
          }
        },
        "bdd6a2f76a43457fb2707cc2c93665e3": {
          "model_module": "@jupyter-widgets/controls",
          "model_name": "DescriptionStyleModel",
          "model_module_version": "1.5.0",
          "state": {
            "_model_module": "@jupyter-widgets/controls",
            "_model_module_version": "1.5.0",
            "_model_name": "DescriptionStyleModel",
            "_view_count": null,
            "_view_module": "@jupyter-widgets/base",
            "_view_module_version": "1.2.0",
            "_view_name": "StyleView",
            "description_width": ""
          }
        }
      }
    }
  },
  "nbformat": 4,
  "nbformat_minor": 0
}