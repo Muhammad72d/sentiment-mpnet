{
 "cells": [
  {
   "cell_type": "code",
   "execution_count": null,
   "metadata": {
    "executionInfo": {
     "elapsed": 21,
     "status": "ok",
     "timestamp": 1753009253627,
     "user": {
      "displayName": "Muhammad 724d",
      "userId": "03639391701136252146"
     },
     "user_tz": -180
    },
    "id": "83KPKEiy--Ok"
   },
   "outputs": [],
   "source": [
    "import pandas as pd\n",
    "import re\n",
    "import matplotlib.pyplot as plt\n",
    "from sentence_transformers import SentenceTransformer\n",
    "from keras.callbacks import EarlyStopping"
   ]
  },
  {
   "cell_type": "code",
   "execution_count": null,
   "metadata": {
    "colab": {
     "base_uri": "https://localhost:8080/"
    },
    "executionInfo": {
     "elapsed": 7,
     "status": "ok",
     "timestamp": 1753009253637,
     "user": {
      "displayName": "Muhammad 724d",
      "userId": "03639391701136252146"
     },
     "user_tz": -180
    },
    "id": "eOqmeDh8_UZn",
    "outputId": "f003dcbd-43f3-453e-f1c2-0ad2ecc174c7"
   },
   "outputs": [],
   "source": [
    "import os\n",
    "print(os.listdir())\n",
    "import numpy as np\n",
    "from sklearn.model_selection import train_test_split\n",
    "from sklearn.metrics import accuracy_score"
   ]
  },
  {
   "cell_type": "code",
   "execution_count": null,
   "metadata": {
    "executionInfo": {
     "elapsed": 16,
     "status": "ok",
     "timestamp": 1753009253655,
     "user": {
      "displayName": "Muhammad 724d",
      "userId": "03639391701136252146"
     },
     "user_tz": -180
    },
    "id": "vHply73J_stn"
   },
   "outputs": [],
   "source": [
    "from tensorflow.keras.models import Sequential\n",
    "from tensorflow.keras.layers import Dense,Dropout,Input,BatchNormalization\n",
    "from tensorflow.keras import layers\n",
    "from tensorflow.keras.optimizers import Adam"
   ]
  },
  {
   "cell_type": "code",
   "execution_count": null,
   "metadata": {
    "executionInfo": {
     "elapsed": 3425,
     "status": "ok",
     "timestamp": 1753009257087,
     "user": {
      "displayName": "Muhammad 724d",
      "userId": "03639391701136252146"
     },
     "user_tz": -180
    },
    "id": "wMuO-TkK_xHl"
   },
   "outputs": [],
   "source": [
    "df=pd.read_csv('training.1600000.processed.noemoticon.csv',encoding='latin-1')"
   ]
  },
  {
   "cell_type": "code",
   "execution_count": null,
   "metadata": {
    "executionInfo": {
     "elapsed": 12,
     "status": "ok",
     "timestamp": 1753009257102,
     "user": {
      "displayName": "Muhammad 724d",
      "userId": "03639391701136252146"
     },
     "user_tz": -180
    },
    "id": "Ith98xyk_2ve"
   },
   "outputs": [],
   "source": [
    "df.columns=['target','id','x','y','z','txt']"
   ]
  },
  {
   "cell_type": "code",
   "execution_count": null,
   "metadata": {
    "executionInfo": {
     "elapsed": 91,
     "status": "ok",
     "timestamp": 1753009257195,
     "user": {
      "displayName": "Muhammad 724d",
      "userId": "03639391701136252146"
     },
     "user_tz": -180
    },
    "id": "mo2Ha6CJ_2oK"
   },
   "outputs": [],
   "source": [
    "sample=df.sample(n=100000)\n",
    "sample=sample.drop(columns=['id','x','y','z'])"
   ]
  },
  {
   "cell_type": "code",
   "execution_count": null,
   "metadata": {
    "executionInfo": {
     "elapsed": 3,
     "status": "ok",
     "timestamp": 1753009257200,
     "user": {
      "displayName": "Muhammad 724d",
      "userId": "03639391701136252146"
     },
     "user_tz": -180
    },
    "id": "SxQd0rWe_2d6"
   },
   "outputs": [],
   "source": [
    "def clean(x):\n",
    "  if not isinstance(x,str):\n",
    "      return ''\n",
    "  x=x.lower()\n",
    "  x=re.sub(r'http\\S+','',x)\n",
    "  x=re.sub(r'@\\w+','',x)\n",
    "  x=re.sub(r'#','',x)\n",
    "  x=re.sub(r'\\s+',' ',x)\n",
    "  x=re.sub(r'[^a-z\\s\\']','',x)\n",
    "  x=re.sub(r'(.)\\1,{2,}',r'\\1\\1',x)\n",
    "  x=x.strip()\n",
    "  return x"
   ]
  },
  {
   "cell_type": "code",
   "execution_count": null,
   "metadata": {
    "executionInfo": {
     "elapsed": 46,
     "status": "ok",
     "timestamp": 1753009257249,
     "user": {
      "displayName": "Muhammad 724d",
      "userId": "03639391701136252146"
     },
     "user_tz": -180
    },
    "id": "pQyvgTYO_2Ih"
   },
   "outputs": [],
   "source": [
    "def minimize(x):\n",
    "  if x<2:\n",
    "   return 0\n",
    "  else:\n",
    "   return 1"
   ]
  },
  {
   "cell_type": "code",
   "execution_count": null,
   "metadata": {
    "executionInfo": {
     "elapsed": 6,
     "status": "ok",
     "timestamp": 1753009257250,
     "user": {
      "displayName": "Muhammad 724d",
      "userId": "03639391701136252146"
     },
     "user_tz": -180
    },
    "id": "zbNYJF9ZAEex"
   },
   "outputs": [],
   "source": [
    "sample['target']=sample['target'].apply(minimize)\n"
   ]
  },
  {
   "cell_type": "code",
   "execution_count": null,
   "metadata": {
    "colab": {
     "base_uri": "https://localhost:8080/",
     "height": 430
    },
    "executionInfo": {
     "elapsed": 258,
     "status": "ok",
     "timestamp": 1753009257504,
     "user": {
      "displayName": "Muhammad 724d",
      "userId": "03639391701136252146"
     },
     "user_tz": -180
    },
    "id": "lfBp6HgDAEb7",
    "outputId": "ddb6f0d2-5b7e-482c-e146-05f32bbb0e17"
   },
   "outputs": [],
   "source": [
    "plt.bar(sample['target'].value_counts().index,sample['target'].value_counts())\n",
    "plt.show()"
   ]
  },
  {
   "cell_type": "code",
   "execution_count": null,
   "metadata": {
    "executionInfo": {
     "elapsed": 1202,
     "status": "ok",
     "timestamp": 1753009258705,
     "user": {
      "displayName": "Muhammad 724d",
      "userId": "03639391701136252146"
     },
     "user_tz": -180
    },
    "id": "rFTfWxqHAEZH"
   },
   "outputs": [],
   "source": [
    "sample['txt']=sample['txt'].apply(clean)\n",
    "sample=sample[sample['txt']!='']\n",
    "sample=sample.drop_duplicates(subset=['txt'])\n",
    "sample=sample.dropna(subset=['txt'])"
   ]
  },
  {
   "cell_type": "code",
   "execution_count": null,
   "metadata": {
    "colab": {
     "base_uri": "https://localhost:8080/"
    },
    "executionInfo": {
     "elapsed": 44,
     "status": "ok",
     "timestamp": 1753009258753,
     "user": {
      "displayName": "Muhammad 724d",
      "userId": "03639391701136252146"
     },
     "user_tz": -180
    },
    "id": "tN50r8dBAEW4",
    "outputId": "bd18ad27-eeed-444f-c725-2568f4632083"
   },
   "outputs": [],
   "source": [
    "print(sample['txt'].sample(10).tolist())\n",
    "print(sample.shape)"
   ]
  },
  {
   "cell_type": "code",
   "execution_count": null,
   "metadata": {
    "colab": {
     "base_uri": "https://localhost:8080/",
     "height": 496,
     "referenced_widgets": [
      "8ef0ec56d5df4c66aef171ee9bd24298",
      "69b5b4d681054ffaa44ffa9582ca08c1",
      "1833f779aa834d568fda4b9ec6a792dd",
      "dcc2fb19b47448dab147d3881e45917f",
      "c831bac32e2e447bbce49bd275a39fc5",
      "c48847855689424b9ccb3d468452f4b2",
      "f67c88c18ac3407ba63a8bc0c4b07cb6",
      "7acc616df15e445abe7dc361cd3f4edc",
      "e29c6540c8154ea58d543eedc6e36aa4",
      "3aa82988b4b6454ba0589558a1c29e86",
      "95bdd98024fe43c7aa2e1fd7d570baac",
      "a93986cd94314ed98e8faee461d9efaa",
      "b3c9b8d0e07547519589629a9a3c8f72",
      "9c39012c88f94d8dbd5c2103bece2bb2",
      "b486c90fc7d84bb4a3a50df62b7f1f65",
      "6325548c13a844d68acd65eb7ee8fdce",
      "5606b8e616064baca6888aa48689798d",
      "a6adeb7786af4897aca7b0fa82a62e54",
      "bb10207551ec43838dd2de0925c8bc4c",
      "19a9980118144b23896d09f87ceb606f",
      "5ea381f4749041b2b4d0161c9c3d8e27",
      "ff1eb60dc2924c9ab29e29c5f262aa19",
      "8439e0b2fe6b47e5b539e7ca5ea8294c",
      "6c926e608ad5418992c2ad27645b3814",
      "21eb23a09cc24c378228a51ee702795d",
      "fc5bff8e87094761910ddba154c53f1b",
      "d6b3c92e7e0949b790eb1374f12cd60f",
      "d6f938fb550541e8bd58a6abfe705f0f",
      "39268c88488d430cb1d16a0fcab99b19",
      "859c53f6b6294b03b6569f824c9b79c7",
      "8da4c0af1ce24acebe6ce500193ccd82",
      "5168d273c2d74a3392167b39f3957b0e",
      "24a8986dbbdc4edfa8c717533dbd498d",
      "59058ef439354d71803ee7a5dfa2bba3",
      "b98563f7b29f49e4a614653fef444377",
      "5cc8ff6de9c54b889d25c5661b8dcc31",
      "db2545f70a004b13a9959b604db70f15",
      "336e4203dadc4d32a2a8f4a8ac079f61",
      "ab83d329f51149179c44f71fd3915077",
      "6f9c3a694c4b4704b0906b6d80a5df08",
      "8eb55c21a6c74883a6ad6e62ce288849",
      "b12d2d5a506b42be917884eb87bba431",
      "d17065cfdd8e495781021fe35f6c110d",
      "466438502abf4b4eaf1c7acfdfc04943",
      "3927d83dd44e49e79eae1c7291f32c48",
      "af292ef463cd4350b08f9d42d12d0155",
      "1dca50712c0745d68266a8cd603c9d0a",
      "33cce90df6f7442096fd7b5be2c3d1ba",
      "abb94d0feec64cfba898c5c75f0b0a89",
      "a0d32e998016428282bc1edabe06fe18",
      "e223afe679054605b4515a4f9f2b9040",
      "a32b609bbb8f4054803a0b84f825c4c1",
      "219c479da6004a049d732bc530a93399",
      "3065afa5100d4ffe99c5ee3c45901d47",
      "18639a632ec3476488792e5213bc30ee",
      "4152110da7bb411a8a84cbfaf3269fae",
      "ef688eddcd5247f3bf8223905ab988c1",
      "e80cd77c97e34a2eba7a71c8bc26c1b6",
      "1ada4a01b28a4247a12837916e5da353",
      "c893585414014697a3b1b554a04440f4",
      "5eea0d51efdc45af893f151e1e3ebf53",
      "3e509d0799f6491c839d2910a8b3d565",
      "7549a60ad9a045c5b0d398fce3ef09eb",
      "cb7bc7184c3d4238a6d8a2a86bbf9098",
      "501a8877534441bfa1d07328f8f35a9d",
      "7f392c8a1b6b41918c2c990d62f2dbd6",
      "7fface579de74e3caa3761c196c67ad9",
      "7a1a6121df7a4380a6c47e0c9b962ec0",
      "fd3c815f31294575bb04c450fdb442ea",
      "aa92527987204964a63b346d2c896b54",
      "286957b75aca497597f32a9f626ee555",
      "d0d119aa1d1e4ccbb202f45d785cd866",
      "2b867a65fc364e48bf38024b69ba2f1c",
      "613b8e2ef12b4f4d8052c4404044a23c",
      "c0ee2164ff5e4f5c9bc93a350eb3d5cc",
      "7add38047e92401b8fcef595b244fc56",
      "4238b7b4d58d452d949d84cc588832ab",
      "62ae482f90294bd58dd6355ad1e265d4",
      "426dc53c21ea4fbe8d38f1c492bab8ea",
      "05aca997c7db478da8262346d3369bf4",
      "52de8fb603d04acb9e32aeeb0893146e",
      "dcb03761c34c48cb9113724b448da451",
      "b414139bed76487db787f4ee45b7ce7b",
      "863d2e7506ab4292a7e765604901a471",
      "46b4dde62d79408ea6f3a684886fc778",
      "5b6390a924464673b615838bbec344c2",
      "d651370bea36482f89a8e12761344589",
      "093aefaa9e86414a8b5a44b427b404f3",
      "2d88e2d3ad5a4e4184cae8b2871dab6d",
      "98db584fd37242e892be1b4d7dd7687f",
      "7dcea8ee4f8344779935adf0243f5b2a",
      "2b615b23ee024830b03a60759b42d3f3",
      "9da5af41c8114adca37afb5178ce21d9",
      "b94d894b95c347c587ecc97952e0b759",
      "21774af3852a4719b137866cf8750c7a",
      "b348cf01bb9b447dada7af8461905211",
      "64ad79c49b714e619839bc0d20ccd5e3",
      "f28413f126804cb2ba7125ff77d273fb",
      "841eb7724e0f4820b40c647a141d3598",
      "44293929becd4417ab36bdbaec98e316",
      "c657874794ec4d579e8fd818bd96baf4",
      "dce204eb5c7941adad7f3318796aeecb",
      "5fcb2453d15a42b69c574bf6d21ecf1b",
      "f3d22bb04513493cb84e5444e34bac17",
      "1a5d33b51724474480ddde207dc2dcd7",
      "ab2a2ad876cf43c69d62a942d1c5fb0a",
      "0b1e398073cc4aa78dcfd68f9a1ed75d",
      "e099276c954c448099463407c4094c59",
      "971bf15a4cc246d7bfb9389e96b0d27a",
      "a188f3a9d9de42de95785e5d54fc3db4",
      "605bfe33cca84b61a73a57f22e5a8b39",
      "3f674c1ca6eb4ab1b7dc825725a17b27",
      "556d9c8b0cd64e07ac361b85f13de03f",
      "c975072f2ce04ccdb6859e77a74701fe",
      "a52d5c9359884316a6764f019c32d180",
      "d42ff6151380461a95ad00269b7a04fe",
      "ffe572c9fde941d5b9c580a714b8a049",
      "f46f00f5c32b413ebe8a25a4729eb5e8",
      "9a22071c4f044e70b8cd0ac968844cd7",
      "9e26503611444964b50f878d7fb16296",
      "b5b59b720e7b41e9b1b79d80c0885ff9"
     ]
    },
    "executionInfo": {
     "elapsed": 13179,
     "status": "ok",
     "timestamp": 1753009271935,
     "user": {
      "displayName": "Muhammad 724d",
      "userId": "03639391701136252146"
     },
     "user_tz": -180
    },
    "id": "6MN7WQ_tAERN",
    "outputId": "a930c8f0-177d-4427-c8c1-02f4dba506f4"
   },
   "outputs": [],
   "source": [
    "st=SentenceTransformer('all-mpnet-base-v2')"
   ]
  },
  {
   "cell_type": "code",
   "execution_count": null,
   "metadata": {
    "executionInfo": {
     "elapsed": 18,
     "status": "ok",
     "timestamp": 1753009271968,
     "user": {
      "displayName": "Muhammad 724d",
      "userId": "03639391701136252146"
     },
     "user_tz": -180
    },
    "id": "iJx5QJKmAEGK"
   },
   "outputs": [],
   "source": [
    "txt=sample['txt'].tolist()"
   ]
  },
  {
   "cell_type": "code",
   "execution_count": null,
   "metadata": {
    "colab": {
     "base_uri": "https://localhost:8080/",
     "height": 49,
     "referenced_widgets": [
      "53c560be5eb44d9dacc9c2ad6b98c2a9",
      "4feebecb970648cfad30f0cebcd74b5b",
      "677bfebd4e6f4d34a3f0bdbfe3eca16e",
      "c83c3d2c4d4740e1925c1f6d12e8bb8e",
      "0c64411fe2df464db9ff7915301d63b0",
      "957e8e3bbcd3417e8b817b0678e8e074",
      "383cff2637e24796a9d9f4c291c65ecb",
      "0a4485f39c6d499385850fb2caeba3cb",
      "713b0b909f254693b2ad8a5c09175248",
      "6064fe90fe7a4bbfa3cecf2ecf691068",
      "48722720fc2c4ba2a809238f1e97c104"
     ]
    },
    "executionInfo": {
     "elapsed": 131073,
     "status": "ok",
     "timestamp": 1753009403028,
     "user": {
      "displayName": "Muhammad 724d",
      "userId": "03639391701136252146"
     },
     "user_tz": -180
    },
    "id": "hnPVk4J3AXmU",
    "outputId": "36985e7d-88b4-4b1c-b29c-6f9bacb830e4"
   },
   "outputs": [],
   "source": [
    "embeddings=st.encode(txt,\n",
    "                     show_progress_bar=True,\n",
    "                     batch_size=64)"
   ]
  },
  {
   "cell_type": "code",
   "execution_count": null,
   "metadata": {
    "colab": {
     "base_uri": "https://localhost:8080/"
    },
    "executionInfo": {
     "elapsed": 113,
     "status": "ok",
     "timestamp": 1753009403145,
     "user": {
      "displayName": "Muhammad 724d",
      "userId": "03639391701136252146"
     },
     "user_tz": -180
    },
    "id": "RWj8eZMRAXjp",
    "outputId": "b3956f40-c8ba-4a6c-946a-135184839273"
   },
   "outputs": [],
   "source": [
    "print(np.array(embeddings).shape)"
   ]
  },
  {
   "cell_type": "code",
   "execution_count": null,
   "metadata": {
    "executionInfo": {
     "elapsed": 146,
     "status": "ok",
     "timestamp": 1753009403294,
     "user": {
      "displayName": "Muhammad 724d",
      "userId": "03639391701136252146"
     },
     "user_tz": -180
    },
    "id": "AEa_0wWyAXcT"
   },
   "outputs": [],
   "source": [
    "xtrain,xtest,ytrain,ytest=train_test_split(embeddings,sample['target'],\n",
    "                                           test_size=0.2,\n",
    "                                           random_state=42)"
   ]
  },
  {
   "cell_type": "code",
   "execution_count": null,
   "metadata": {
    "executionInfo": {
     "elapsed": 1510,
     "status": "ok",
     "timestamp": 1753009404800,
     "user": {
      "displayName": "Muhammad 724d",
      "userId": "03639391701136252146"
     },
     "user_tz": -180
    },
    "id": "nrLhDFCvAXQj"
   },
   "outputs": [],
   "source": [
    "Bert_model=Sequential([\n",
    "    Input(shape=(xtrain.shape[1],)),\n",
    "    Dense(512,activation='relu'),\n",
    "    BatchNormalization(),\n",
    "    Dropout(0.3),\n",
    "    Dense(256,activation='relu'),\n",
    "    BatchNormalization(),\n",
    "    Dropout(0.3),\n",
    "    Dense(128,activation='relu'),\n",
    "    BatchNormalization(),\n",
    "    Dropout(0.2),\n",
    "    Dense(1,activation='sigmoid')])"
   ]
  },
  {
   "cell_type": "code",
   "execution_count": null,
   "metadata": {
    "executionInfo": {
     "elapsed": 3,
     "status": "ok",
     "timestamp": 1753009404815,
     "user": {
      "displayName": "Muhammad 724d",
      "userId": "03639391701136252146"
     },
     "user_tz": -180
    },
    "id": "lV1yEH05Ai_X"
   },
   "outputs": [],
   "source": [
    "lrn_rate=Adam(learning_rate=2e-5)"
   ]
  },
  {
   "cell_type": "code",
   "execution_count": null,
   "metadata": {
    "executionInfo": {
     "elapsed": 44,
     "status": "ok",
     "timestamp": 1753009404861,
     "user": {
      "displayName": "Muhammad 724d",
      "userId": "03639391701136252146"
     },
     "user_tz": -180
    },
    "id": "_kBBaN2mAi0w"
   },
   "outputs": [],
   "source": [
    "Bert_model.compile(optimizer=lrn_rate,\n",
    "                   loss='binary_crossentropy',\n",
    "                   metrics=['accuracy'])"
   ]
  },
  {
   "cell_type": "code",
   "execution_count": null,
   "metadata": {
    "executionInfo": {
     "elapsed": 5,
     "status": "ok",
     "timestamp": 1753009404864,
     "user": {
      "displayName": "Muhammad 724d",
      "userId": "03639391701136252146"
     },
     "user_tz": -180
    },
    "id": "TZJITCkpAins"
   },
   "outputs": [],
   "source": [
    "early=EarlyStopping(monitor='val_loss',\n",
    "                    patience=2,\n",
    "                    restore_best_weights=True)"
   ]
  },
  {
   "cell_type": "code",
   "execution_count": null,
   "metadata": {
    "colab": {
     "base_uri": "https://localhost:8080/"
    },
    "executionInfo": {
     "elapsed": 88163,
     "status": "ok",
     "timestamp": 1753009493041,
     "user": {
      "displayName": "Muhammad 724d",
      "userId": "03639391701136252146"
     },
     "user_tz": -180
    },
    "id": "cAv5DoJMAsPg",
    "outputId": "5a32b644-f785-46c3-fa72-18107ee93f25"
   },
   "outputs": [],
   "source": [
    "history1=Bert_model.fit(xtrain,ytrain,\n",
    "                       epochs=10,batch_size=32,\n",
    "                       validation_split=0.1,\n",
    "                       callbacks=[early],\n",
    "                       verbose=1)"
   ]
  },
  {
   "cell_type": "code",
   "execution_count": null,
   "metadata": {
    "colab": {
     "base_uri": "https://localhost:8080/",
     "height": 430
    },
    "executionInfo": {
     "elapsed": 294,
     "status": "ok",
     "timestamp": 1753009493342,
     "user": {
      "displayName": "Muhammad 724d",
      "userId": "03639391701136252146"
     },
     "user_tz": -180
    },
    "id": "Eh1l1g1yAsAu",
    "outputId": "36b1acdf-b98a-4ea0-a508-0fd8a2cf1778"
   },
   "outputs": [],
   "source": [
    "plt.plot(history1.history['accuracy'],label='train')\n",
    "plt.plot(history1.history['val_accuracy'],label='val accuracy')\n",
    "plt.plot(history1.history['loss'],label='loss')\n",
    "plt.plot(history1.history['val_loss'],label='val loss')\n",
    "plt.legend()\n",
    "plt.show()"
   ]
  },
  {
   "cell_type": "code",
   "execution_count": null,
   "metadata": {
    "colab": {
     "base_uri": "https://localhost:8080/"
    },
    "executionInfo": {
     "elapsed": 2586,
     "status": "ok",
     "timestamp": 1753009495913,
     "user": {
      "displayName": "Muhammad 724d",
      "userId": "03639391701136252146"
     },
     "user_tz": -180
    },
    "id": "iHR73jxXAzdC",
    "outputId": "6f4dff00-f001-4306-830b-8052c2cd4c69"
   },
   "outputs": [],
   "source": [
    "temp=Bert_model.predict(xtest)"
   ]
  },
  {
   "cell_type": "code",
   "execution_count": null,
   "metadata": {
    "executionInfo": {
     "elapsed": 3,
     "status": "ok",
     "timestamp": 1753009495926,
     "user": {
      "displayName": "Muhammad 724d",
      "userId": "03639391701136252146"
     },
     "user_tz": -180
    },
    "id": "mSgQBpXQA3OB"
   },
   "outputs": [],
   "source": [
    "ypredict=(temp>=0.5).astype(int)"
   ]
  },
  {
   "cell_type": "code",
   "execution_count": null,
   "metadata": {
    "colab": {
     "base_uri": "https://localhost:8080/"
    },
    "executionInfo": {
     "elapsed": 15,
     "status": "ok",
     "timestamp": 1753009495943,
     "user": {
      "displayName": "Muhammad 724d",
      "userId": "03639391701136252146"
     },
     "user_tz": -180
    },
    "id": "709vNEWMA3E8",
    "outputId": "69a9cd4c-6e4f-413a-9b2b-b8055faadbed"
   },
   "outputs": [],
   "source": [
    "ac=accuracy_score(ytest,ypredict)\n",
    "print(ac)"
   ]
  }
 ],
 "metadata": {
  "accelerator": "GPU",
  "colab": {
   "authorship_tag": "ABX9TyPxUR32yjgXUxkU+NtCzZoQ",
   "gpuType": "T4",
   "provenance": []
  },
  "kernelspec": {
   "display_name": "Python 3",
   "name": "python3"
  },
  "language_info": {
   "name": "python"
  }
 },
 "nbformat": 4,
 "nbformat_minor": 0
}
